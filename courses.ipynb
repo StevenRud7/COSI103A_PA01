{
 "cells": [
  {
   "cell_type": "markdown",
   "metadata": {},
   "source": [
    "# Courses Demo\n",
    "This Jupyter notebook is for exploring the data set courses20-21.json\n",
    "which consists of all Brandeis courses in the 20-21 academic year (Fall20, Spr21, Sum21) \n",
    "which had at least 1 student enrolled.\n",
    "\n",
    "First we need to read the json file into a list of Python dictionaries"
   ]
  },
  {
   "cell_type": "code",
   "execution_count": null,
   "metadata": {},
   "outputs": [],
   "source": [
    "import json"
   ]
  },
  {
   "cell_type": "code",
   "execution_count": null,
   "metadata": {},
   "outputs": [],
   "source": [
    "with open(\"courses20-21.json\",\"r\",encoding='utf-8') as jsonfile:\n",
    "    courses = json.load(jsonfile)"
   ]
  },
  {
   "cell_type": "markdown",
   "metadata": {},
   "source": [
    "## Structure of a course\n",
    "Next we look at the fields of each course dictionary and their values"
   ]
  },
  {
   "cell_type": "code",
   "execution_count": null,
   "metadata": {},
   "outputs": [],
   "source": [
    "print('there are',len(courses),'courses in the dataset')\n",
    "print('here is the data for course 1246')\n",
    "courses[124]\n",
    " "
   ]
  },
  {
   "cell_type": "markdown",
   "metadata": {},
   "source": [
    "## Cleaning the data\n",
    "If we want to sort courses by instructor or by code, we need to replace the lists with tuples (which are immutable lists)"
   ]
  },
  {
   "cell_type": "code",
   "execution_count": null,
   "metadata": {},
   "outputs": [],
   "source": [
    "for course in courses:\n",
    "        course['instructor'] = tuple(course['instructor'])\n",
    "        course['coinstructors'] = tuple([tuple(f) for f in course['coinstructors']])\n",
    "        course['code']= tuple(course['code'])"
   ]
  },
  {
   "cell_type": "code",
   "execution_count": null,
   "metadata": {},
   "outputs": [],
   "source": [
    "print('notice that the instructor and code are tuples now')\n",
    "courses[1246]"
   ]
  },
  {
   "cell_type": "markdown",
   "metadata": {},
   "source": [
    "# PA01 Questions"
   ]
  },
  {
   "cell_type": "markdown",
   "metadata": {},
   "source": [
    "a. How many faculty taught COSI courses last year?"
   ]
  },
  {
   "cell_type": "code",
   "execution_count": null,
   "metadata": {},
   "outputs": [],
   "source": [
    "len({course['instructor'] for course in courses if course['subject'] == 'COSI'})"
   ]
  },
  {
   "cell_type": "markdown",
   "metadata": {},
   "source": [
    "b. What was the total number of students taking COSI courses last year?"
   ]
  },
  {
   "cell_type": "code",
   "execution_count": null,
   "metadata": {},
   "outputs": [],
   "source": [
    "sum([course['enrolled'] for course in courses if course['subject'] == 'COSI'])"
   ]
  },
  {
   "cell_type": "markdown",
   "metadata": {},
   "source": [
    "c. What was the median size of a COSI course last year (counting only those courses with at least 10 students)?"
   ]
  },
  {
   "cell_type": "code",
   "execution_count": null,
   "metadata": {},
   "outputs": [],
   "source": [
    "# Tiehuan\n",
    "import numpy as np\n",
    "list = []\n",
    "for course in courses:\n",
    "    if course['subject'] == 'COSI' and course['enrolled'] >= 10:\n",
    "        list.append(course['enrolled'])\n",
    "np.median(list)"
   ]
  },
  {
   "cell_type": "markdown",
   "metadata": {},
   "source": [
    "d. Create a list of tuples (E,S) where S is a subject and E is the number of students enrolled in courses in that subject, sort it and print the top 10. This shows the top 10 subjects in terms of number of students taught."
   ]
  },
  {
   "cell_type": "code",
   "execution_count": null,
   "metadata": {},
   "outputs": [],
   "source": [
    "total_students = {}\n",
    "for subject, enrolled in {(course['subject'], course['enrolled']) for course in courses}:\n",
    "    if subject in total_students:\n",
    "        total_students[subject] += enrolled\n",
    "    else:\n",
    "        total_students[subject] = enrolled\n",
    "sorted_by_size = []\n",
    "for subject in sorted(total_students, key=total_students.get, reverse=True):\n",
    "    sorted_by_size.append((total_students[subject], subject))\n",
    "print(sorted_by_size[:10])"
   ]
  },
  {
   "cell_type": "markdown",
   "metadata": {},
   "source": [
    "e. Do the same as in (d) but print the top 10 subjects in terms of number of courses offered."
   ]
  },
  {
   "cell_type": "code",
   "execution_count": null,
   "metadata": {},
   "outputs": [],
   "source": [
    "prob_e_subjects = {course[\"subject\"] for course in courses}\n",
    "prob_e_courses_offered_per_subject = [((len([course for course in courses if course['subject'] == subject])), subject) for subject in prob_e_subjects]\n",
    "sorted(prob_e_courses_offered_per_subject, key=lambda x: x[0], reverse=True)[:10]"
   ]
  },
  {
   "cell_type": "markdown",
   "metadata": {},
   "source": [
    "f. Do the same as in (d) but print the top 10 subjects in terms of number of faculty teaching courses in that subject."
   ]
  },
  {
   "cell_type": "code",
   "execution_count": null,
   "metadata": {},
   "outputs": [],
   "source": [
    "# subejcts amount, subjects\n",
    "subjects = {}\n",
    "for instructor, subject in {(course['subject'], course['instructor']) for course in courses}:\n",
    "    if subject in subjects:\n",
    "        subjects[subject] += 1\n",
    "    else:\n",
    "        subjects[subject] = 1\n",
    "\n",
    "sorted_by_size = []\n",
    "for subject in sorted(subjects, key=subjects.get, reverse=True):\n",
    "    sorted_by_size.append((subjects[subject], subject))\n",
    "print(sorted_by_size[:10])\n",
    "\n"
   ]
  },
  {
   "cell_type": "markdown",
   "metadata": {},
   "source": [
    "g. List the top 20 faculty in terms of number of students they taught."
   ]
  },
  {
   "cell_type": "code",
   "execution_count": null,
   "metadata": {},
   "outputs": [],
   "source": [
    "top_faculty={}\n",
    "for instructor, enrolled in {(c['instructor'],c['enrolled']) for c in courses}:\n",
    "    if instructor in top_faculty:\n",
    "        top_faculty[instructor] +=enrolled \n",
    "    else:\n",
    "        top_faculty[instructor] =enrolled\n",
    "sorted_faculty = []\n",
    "for instructor in sorted(top_faculty, key = top_faculty.get, reverse=True):\n",
    "    sorted_faculty.append((top_faculty[instructor],instructor))\n",
    "[(sorted_faculty[:20]) for c in range(1)]"
   ]
  },
  {
   "cell_type": "markdown",
   "metadata": {},
   "source": [
    "h. List the top 20 courses in terms of number of students taking that course (where you combine different sections and semesters, i.e. just use the subject and course number)."
   ]
  },
  {
   "cell_type": "code",
   "execution_count": null,
   "metadata": {},
   "outputs": [],
   "source": [
    "top_courses={}\n",
    "for name, coursenum, enrolled in {(c['name'],c['coursenum'],c['enrolled']) for c in courses}:\n",
    "    if name in top_courses:\n",
    "        top_courses[name] +=enrolled\n",
    "    else:\n",
    "        top_courses[name] =enrolled\n",
    "#print(top_courses)\n",
    "sorted_courses = []\n",
    "for name in sorted(top_courses, key = top_courses.get, reverse=True):\n",
    "    sorted_courses.append((top_courses[name],name))\n",
    "[(sorted_courses[:20]) for c in range(1)]"
   ]
  },
  {
   "cell_type": "markdown",
   "metadata": {},
   "source": [
    "i. Leora's unique question: What was the average number of enrolled students per course last year (counting only those courses with at least 1 student)? "
   ]
  },
  {
   "cell_type": "code",
   "execution_count": null,
   "metadata": {},
   "outputs": [],
   "source": [
    "total_enrolled = 0\n",
    "num_courses = 0\n",
    "for course in courses:\n",
    "    if course['enrolled'] > 0:\n",
    "        total_enrolled += course['enrolled']\n",
    "        num_courses += 1\n",
    "total_enrolled/num_courses"
   ]
  },
  {
   "cell_type": "markdown",
   "metadata": {},
   "source": [
    "j. Noah's unique question: List the 10 classes with the greatest number of students on the waitlist."
   ]
  },
  {
   "cell_type": "code",
   "execution_count": null,
   "metadata": {},
   "outputs": [],
   "source": [
    "sorted([(c['code'],c['waiting']) for c in courses], key=lambda x: x[1], reverse=True)[:10]"
   ]
  },
  {
   "cell_type": "markdown",
   "metadata": {},
   "source": [
    "k. Steven's unique question: How many courses were maxed out with students (The amount of enrolled students equaled the limit)"
   ]
  },
  {
   "cell_type": "code",
   "execution_count": null,
   "metadata": {},
   "outputs": [],
   "source": [
    "[(c['name'],c['instructor'],c['enrolled'],c['limit']) for c in courses if c['enrolled']==c['limit'] and c['enrolled']>=30]"
   ]
  },
  {
   "cell_type": "markdown",
   "metadata": {},
   "source": [
    "l. Aris's unique question"
   ]
  },
  {
   "cell_type": "code",
   "execution_count": null,
   "metadata": {},
   "outputs": [],
   "source": []
  },
  {
   "cell_type": "markdown",
   "metadata": {},
   "source": [
    "m. Tiehuan's unique question: What is the course with the most coinstructors?"
   ]
  },
  {
   "cell_type": "code",
   "execution_count": null,
   "metadata": {},
   "outputs": [],
   "source": [
    "num = 0\n",
    "coursename = ''\n",
    "for course in courses:\n",
    "    if(len(course['coinstructors']) > num):\n",
    "        num = len(course['coinstructors'])\n",
    "        coursename = course['coursenum']\n",
    "print(num, coursename)"
   ]
  }
 ],
 "metadata": {
  "kernelspec": {
   "display_name": "Python 3 (ipykernel)",
   "language": "python",
   "name": "python3"
  },
  "language_info": {
   "codemirror_mode": {
    "name": "ipython",
    "version": 3
   },
   "file_extension": ".py",
   "mimetype": "text/x-python",
   "name": "python",
   "nbconvert_exporter": "python",
   "pygments_lexer": "ipython3",
   "version": "3.9.5"
  }
 },
 "nbformat": 4,
 "nbformat_minor": 4
}
